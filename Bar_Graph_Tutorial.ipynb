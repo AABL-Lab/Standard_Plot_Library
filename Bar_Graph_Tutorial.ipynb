{
  "nbformat": 4,
  "nbformat_minor": 0,
  "metadata": {
    "colab": {
      "name": "Bar Graph Tutorial",
      "provenance": []
    },
    "kernelspec": {
      "name": "python3",
      "display_name": "Python 3"
    },
    "language_info": {
      "name": "python"
    }
  },
  "cells": [
    {
      "cell_type": "markdown",
      "metadata": {
        "id": "HyAS43maE2eJ"
      },
      "source": [
        "Welcome! In this notebook we will walk through making legible and colorblind-friendly bar graphs using matplotlib."
      ]
    },
    {
      "cell_type": "markdown",
      "metadata": {
        "id": "ZGC34Tzg1_d5"
      },
      "source": [
        "Written by: Isabella Bianchi 3/19/2021"
      ]
    },
    {
      "cell_type": "markdown",
      "metadata": {
        "id": "FpjezZq6E7V0"
      },
      "source": [
        "Here are our imports:\n",
        "\n",
        "\n",
        "*   numpy will allow us to easily work with array data structures and perform useful operations on our data.\n",
        "*   matplotlib.pyplot allows us to graph our data and the \"style\" import allows us to customize the colors and overall look of our graphs.\n",
        "*   scripy stats is a common, but powerful, stats library that will take care of all of our statistical needs!\n",
        "\n",
        "\n"
      ]
    },
    {
      "cell_type": "code",
      "metadata": {
        "id": "iTZqJsWTE-mz"
      },
      "source": [
        "import numpy as np\n",
        "import matplotlib.pyplot as plt\n",
        "from matplotlib import style\n",
        "from scipy import stats"
      ],
      "execution_count": null,
      "outputs": []
    },
    {
      "cell_type": "markdown",
      "metadata": {
        "id": "DaLcasrlFAyo"
      },
      "source": [
        "First, let's generate some mock data. Imagine that you are comparing the reaction times of various robotic arms as compared to a human."
      ]
    },
    {
      "cell_type": "code",
      "metadata": {
        "id": "E75lgaqCEop4"
      },
      "source": [
        "Reactors = ['Human', 'EPFL Arm', 'Industrial Arm']\n",
        "human = np.array([275, 300, 290, 250, 250])\n",
        "epfl = np.array([45, 50, 50, 55, 80])\n",
        "industrial = np.array([250, 275, 300, 280, 275])\n",
        "\n",
        "human_mean = np.mean(human)\n",
        "epfl_mean = np.mean(epfl)\n",
        "industrial_mean = np.mean(industrial)\n",
        "\n",
        "Reaction_Time = [human_mean, epfl_mean, industrial_mean]\n",
        "\n",
        "human_std = np.std(human)\n",
        "epfl_std = np.std(epfl)\n",
        "industrial_std = np.std(industrial)"
      ],
      "execution_count": null,
      "outputs": []
    },
    {
      "cell_type": "markdown",
      "metadata": {
        "id": "EbF2IU5LFL_3"
      },
      "source": [
        "This is a very basic example with only three bars and assuming that you have already averaged each reaction time.\n",
        "\n",
        "Now it is time to make a graph:"
      ]
    },
    {
      "cell_type": "code",
      "metadata": {
        "colab": {
          "base_uri": "https://localhost:8080/",
          "height": 282
        },
        "id": "41TRs8w_FOfV",
        "outputId": "41011472-1ffd-4c1e-f32f-1fa61f20c1eb"
      },
      "source": [
        "plt.bar(Reactors, Reaction_Time)"
      ],
      "execution_count": null,
      "outputs": [
        {
          "output_type": "execute_result",
          "data": {
            "text/plain": [
              "<BarContainer object of 3 artists>"
            ]
          },
          "metadata": {
            "tags": []
          },
          "execution_count": 3
        },
        {
          "output_type": "display_data",
          "data": {
            "image/png": "[encoded data removed]",
            "text/plain": [
              "<Figure size 432x288 with 1 Axes>"
            ]
          },
          "metadata": {
            "tags": [],
            "needs_background": "light"
          }
        }
      ]
    },
    {
      "cell_type": "markdown",
      "metadata": {
        "id": "rJg42BHlFSvF"
      },
      "source": [
        "Great! It is already labeled based on the names we gave each earlier. But we should add labels on the axes and a title."
      ]
    },
    {
      "cell_type": "code",
      "metadata": {
        "colab": {
          "base_uri": "https://localhost:8080/",
          "height": 324
        },
        "id": "CYkMMwCNFUvX",
        "outputId": "d0820ed8-0c81-442a-81b5-96d53b61375f"
      },
      "source": [
        "plt.bar(Reactors, Reaction_Time)\n",
        "\n",
        "plt.title('Reaction Times of Various Arms', fontsize ='xx-large')\n",
        "plt.xlabel('Reaction Time in Miliseconds', fontsize ='xx-large')\n",
        "plt.ylabel('Type of Arm', fontsize ='xx-large')"
      ],
      "execution_count": null,
      "outputs": [
        {
          "output_type": "execute_result",
          "data": {
            "text/plain": [
              "Text(0, 0.5, 'Type of Arm')"
            ]
          },
          "metadata": {
            "tags": []
          },
          "execution_count": 4
        },
        {
          "output_type": "display_data",
          "data": {
            "image/png": "[encoded data removed]",
            "text/plain": [
              "<Figure size 432x288 with 1 Axes>"
            ]
          },
          "metadata": {
            "tags": [],
            "needs_background": "light"
          }
        }
      ]
    },
    {
      "cell_type": "markdown",
      "metadata": {
        "id": "yfRv9caxFYiV"
      },
      "source": [
        "We're getting closer. Now let's do some aesthetic changes. The bars should be different colors, and we don't need the bar on the top and right. Let's also add a 300 milisecond tickmark so that there isn't extra space at the top and make the x and y labels larger."
      ]
    },
    {
      "cell_type": "code",
      "metadata": {
        "colab": {
          "base_uri": "https://localhost:8080/",
          "height": 329
        },
        "id": "SUKiXFaXFXj4",
        "outputId": "6ae28b0c-5426-4620-9496-d683b95e9e26"
      },
      "source": [
        "New_Colors = ['green', 'teal', 'orange']\n",
        "\n",
        "\n",
        "fig, ax = plt.subplots()\n",
        "# Remove the black lines on the right\n",
        "right_side = ax.spines[\"right\"]\n",
        "right_side.set_visible(False)\n",
        "# Remove the black lines on the top\n",
        "top_side = ax.spines[\"top\"]\n",
        "top_side.set_visible(False)\n",
        "\n",
        "# Set the y tickmarks to be larger and go to 300\n",
        "plt.ylim(0, 300)\n",
        "plt.yticks(fontsize=16)\n",
        "plt.xticks(fontsize=16)\n",
        "\n",
        "\n",
        "plt.bar(Reactors, Reaction_Time, color=New_Colors)\n",
        "\n",
        "plt.title('Reaction Times of Various Arms', fontsize ='xx-large')\n",
        "plt.xlabel('Reaction Time in Miliseconds', fontsize ='xx-large')\n",
        "plt.ylabel('Type of Arm', fontsize ='xx-large')\n"
      ],
      "execution_count": null,
      "outputs": [
        {
          "output_type": "execute_result",
          "data": {
            "text/plain": [
              "Text(0, 0.5, 'Type of Arm')"
            ]
          },
          "metadata": {
            "tags": []
          },
          "execution_count": 5
        },
        {
          "output_type": "display_data",
          "data": {
            "image/png": "[encoded data removed]",
            "text/plain": [
              "<Figure size 432x288 with 1 Axes>"
            ]
          },
          "metadata": {
            "tags": [],
            "needs_background": "light"
          }
        }
      ]
    },
    {
      "cell_type": "markdown",
      "metadata": {
        "id": "m9XBUAopGDIM"
      },
      "source": [
        "Great! Now let's add standard deviation."
      ]
    },
    {
      "cell_type": "code",
      "metadata": {
        "id": "BZMHrkdDGDsi",
        "colab": {
          "base_uri": "https://localhost:8080/",
          "height": 329
        },
        "outputId": "c3aa3352-db5a-47d7-906b-09f201913eae"
      },
      "source": [
        "New_Colors = ['green', 'teal', 'orange']\n",
        "\n",
        "\n",
        "fig, ax = plt.subplots()\n",
        "# Remove the black lines on the right\n",
        "right_side = ax.spines[\"right\"]\n",
        "right_side.set_visible(False)\n",
        "# Remove the black lines on the top\n",
        "top_side = ax.spines[\"top\"]\n",
        "top_side.set_visible(False)\n",
        "\n",
        "# Set the y tickmarks to be larger and go to 300\n",
        "plt.ylim(0, 300)\n",
        "plt.yticks(fontsize=16)\n",
        "plt.xticks(fontsize=16)\n",
        "\n",
        "error = [human_std, epfl_std, industrial_std]\n",
        "\n",
        "\n",
        "plt.bar(Reactors, Reaction_Time, yerr=error, color=New_Colors)\n",
        "\n",
        "plt.title('Reaction Times of Various Arms', fontsize ='xx-large')\n",
        "plt.xlabel('Reaction Time in Miliseconds', fontsize ='xx-large')\n",
        "plt.ylabel('Type of Arm', fontsize ='xx-large')\n"
      ],
      "execution_count": null,
      "outputs": [
        {
          "output_type": "execute_result",
          "data": {
            "text/plain": [
              "Text(0, 0.5, 'Type of Arm')"
            ]
          },
          "metadata": {
            "tags": []
          },
          "execution_count": 6
        },
        {
          "output_type": "display_data",
          "data": {
            "image/png": "[encoded data removed]",
            "text/plain": [
              "<Figure size 432x288 with 1 Axes>"
            ]
          },
          "metadata": {
            "tags": [],
            "needs_background": "light"
          }
        }
      ]
    }
  ]
}